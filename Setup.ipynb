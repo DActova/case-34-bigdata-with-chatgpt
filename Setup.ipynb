{
 "cells": [
  {
   "cell_type": "code",
   "execution_count": 1,
   "id": "8d4332a8-d776-4f6b-aea0-85b53830e0bb",
   "metadata": {},
   "outputs": [
    {
     "data": {
      "text/plain": [
       "[400, 329, 43, 34, 557]"
      ]
     },
     "execution_count": 1,
     "metadata": {},
     "output_type": "execute_result"
    }
   ],
   "source": [
    "import pyspark  \n",
    "sc = pyspark.SparkContext('local[*]') \n",
    "# do something to prove it works \n",
    "rdd = sc.parallelize(range(1000)) \n",
    "rdd.takeSample(False, 5) "
   ]
  },
  {
   "cell_type": "code",
   "execution_count": 3,
   "id": "193bf084-6375-4e42-8be9-a766ff0bc8ff",
   "metadata": {},
   "outputs": [
    {
     "data": {
      "text/plain": [
       "499999"
      ]
     },
     "execution_count": 3,
     "metadata": {},
     "output_type": "execute_result"
    }
   ],
   "source": [
    "from pyspark.sql import SparkSession\n",
    "# Create a SparkSession\n",
    "spark = SparkSession.builder \\\n",
    "    .appName(\"Read CSV Example\") \\\n",
    "    .getOrCreate()\n",
    "# accounts\n",
    "df_clean_file = spark.read \\\n",
    "    .option(\"header\", \"true\")  \\\n",
    "    .option(\"inferSchema\", \"true\")  \\\n",
    "    .csv(\"clean_me.csv\", sep=\";\")\n",
    "\n",
    "df_clean_file.count()"
   ]
  },
  {
   "cell_type": "markdown",
   "id": "774a680c-cf7c-45fb-840a-958cc0d820cc",
   "metadata": {},
   "source": [
    "Write a function to format the file in a way that each appropriate value will correspond to only one column. If the data itself contains the splitter comma, it should be quoted by double quotes.  "
   ]
  },
  {
   "cell_type": "code",
   "execution_count": null,
   "id": "075a578d-ba5d-40ef-8af3-71477f96f063",
   "metadata": {},
   "outputs": [],
   "source": [
    "from pyspark.sql import SparkSession\n",
    "from pyspark.sql.functions import col, lit, split, concat, when\n",
    "\n",
    "import pandas as pd  # Note: This import is not used in the provided code. Consider removing it.\n",
    "\n",
    "def format_file():\n",
    "    \"\"\"\n",
    "    Read a CSV file, format its content and return a DataFrame with the desired columns.\n",
    "    \"\"\"\n",
    "    # Read the text file\n",
    "    raw_file = spark.read.text(\"clean_me.csv\")\n",
    "    \n",
    "    # Splitting the columns\n",
    "    formatted_df = raw_file.withColumn(\"splitted_column\", split(col(\"value\"), \",\"))\n",
    "    \n",
    "    # Extracting fields from the splitted_column\n",
    "    formatted_df = (formatted_df\n",
    "                    .withColumn(\"order_id\", col(\"splitted_column\")[0])\n",
    "                    .withColumn(\"delivery_company\", col(\"splitted_column\")[1])\n",
    "                    .withColumn(\"quantity\", when(col(\"splitted_column\")[2].cast(\"int\").isNotNull(), col(\"splitted_column\")[2])\n",
    "                                .otherwise(lit(0)))\n",
    "                    .withColumn(\"price\", when(col(\"splitted_column\")[4].cast(\"int\").isNotNull(),\n",
    "                                               concat(col(\"splitted_column\")[3], lit(\".\"), col(\"splitted_column\")[4]))\n",
    "                                .otherwise(col(\"splitted_column\")[3]))\n",
    "                    .withColumn(\"ordered_date\", when(col(\"splitted_column\")[4].cast(\"int\").isNotNull(), col(\"splitted_column\")[5])\n",
    "                                .otherwise(col(\"splitted_column\")[4]))\n",
    "                    .withColumn(\"address\", concat(col(\"splitted_column\")[6], lit(\",\"), col(\"splitted_column\")[7]))\n",
    "                    )\n",
    "    \n",
    "    # Removing the header and selecting desired columns\n",
    "    result_df = (formatted_df.select(\"order_id\", \"delivery_company\", \"quantity\", \"price\", \"ordered_date\", \"address\")\n",
    "                 .filter(col(\"order_id\") != \"order_id\"))\n",
    "    \n",
    "    return result_df\n",
    "\n",
    "# Creating a SparkSession\n",
    "spark = SparkSession.builder.appName(\"Read CSV Example\").getOrCreate()\n",
    "\n",
    "# Calling the function and showing the result\n",
    "format_file().show()\n"
   ]
  }
 ],
 "metadata": {
  "kernelspec": {
   "display_name": "Python 3 (ipykernel)",
   "language": "python",
   "name": "python3"
  },
  "language_info": {
   "codemirror_mode": {
    "name": "ipython",
    "version": 3
   },
   "file_extension": ".py",
   "mimetype": "text/x-python",
   "name": "python",
   "nbconvert_exporter": "python",
   "pygments_lexer": "ipython3",
   "version": "3.11.5"
  }
 },
 "nbformat": 4,
 "nbformat_minor": 5
}
