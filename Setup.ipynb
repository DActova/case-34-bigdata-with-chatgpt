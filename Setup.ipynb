{
 "cells": [
  {
   "cell_type": "code",
   "execution_count": 1,
   "id": "8d4332a8-d776-4f6b-aea0-85b53830e0bb",
   "metadata": {},
   "outputs": [
    {
     "data": {
      "text/plain": [
       "[400, 329, 43, 34, 557]"
      ]
     },
     "execution_count": 1,
     "metadata": {},
     "output_type": "execute_result"
    }
   ],
   "source": [
    "import pyspark  \n",
    "sc = pyspark.SparkContext('local[*]') \n",
    "# do something to prove it works \n",
    "rdd = sc.parallelize(range(1000)) \n",
    "rdd.takeSample(False, 5) "
   ]
  },
  {
   "cell_type": "code",
   "execution_count": 3,
   "id": "193bf084-6375-4e42-8be9-a766ff0bc8ff",
   "metadata": {},
   "outputs": [
    {
     "data": {
      "text/plain": [
       "499999"
      ]
     },
     "execution_count": 3,
     "metadata": {},
     "output_type": "execute_result"
    }
   ],
   "source": [
    "from pyspark.sql import SparkSession\n",
    "# Create a SparkSession\n",
    "spark = SparkSession.builder \\\n",
    "    .appName(\"Read CSV Example\") \\\n",
    "    .getOrCreate()\n",
    "# accounts\n",
    "df_clean_file = spark.read \\\n",
    "    .option(\"header\", \"true\")  \\\n",
    "    .option(\"inferSchema\", \"true\")  \\\n",
    "    .csv(\"clean_me.csv\", sep=\";\")\n",
    "\n",
    "df_clean_file.count()"
   ]
  },
  {
   "cell_type": "markdown",
   "id": "774a680c-cf7c-45fb-840a-958cc0d820cc",
   "metadata": {},
   "source": [
    "Write a function to format the file in a way that each appropriate value will correspond to only one column. If the data itself contains the splitter comma, it should be quoted by double quotes.  "
   ]
  },
  {
   "cell_type": "code",
   "execution_count": 1,
   "id": "075a578d-ba5d-40ef-8af3-71477f96f063",
   "metadata": {},
   "outputs": [
    {
     "name": "stdout",
     "output_type": "stream",
     "text": [
      "+--------+----------------+--------+--------+------------+-------------------------------+\n",
      "|order_id|delivery_company|quantity|price   |ordered_date|address                        |\n",
      "+--------+----------------+--------+--------+------------+-------------------------------+\n",
      "|1       | delivery_comp_1| 1      | 245. 52| 9-2-2022   | Cedar Lane Houston, CA 90001  |\n",
      "|2       |delivery_comp_2 |2       |114.77  |null        |Main Street,New York CA 60601  |\n",
      "|3       |delivery_comp_3 |0       |739.43  |14-3-2022   |Main Street,Chicago TX 10001   |\n",
      "|4       |delivery_comp_0 |1       |878.93  |20/4/2022   |null                           |\n",
      "|5       |delivery_comp_1 |2       |481.44  |null        |Maple Drive Chicago,FL 60601   |\n",
      "|6       |delivery_comp_2 |0       |78.13   |null        |Main Street,Houston NY 77001   |\n",
      "|7       |delivery_comp_3 |1       |832.17  |20-2-2022   |null                           |\n",
      "|8       |delivery_comp_0 |2       |687.8   |1/4/2022    |Maple Drive,Los Angeles        |\n",
      "|9       |delivery_comp_1 |0       |338.44  |13/4/2022   |Cedar Lane Miami,NY 77001      |\n",
      "|10      |delivery_comp_2 |1       |461.33  |null        |Chicago,NY 77001               |\n",
      "|11      |delivery_comp_3 |2       |544.33  |8/4/2022    |Los Angeles,CA 90001           |\n",
      "|12      |delivery_comp_0 |0       |200.20  |null        |Cedar Lane,Los Angeles FL 77001|\n",
      "|13      |delivery_comp_1 |1       |939.99  |null        |Main Street,Chicago            |\n",
      "|14      |delivery_comp_2 |2       |72.69   |2/3/2022    |Oak Avenue,Los Angeles         |\n",
      "|15      |delivery_comp_3 |0       |635.28  |15-2-2022   |Miami,FL 10001                 |\n",
      "|16      |delivery_comp_0 |1       |592.83  |2/3/2022    |Los Angeles,FL                 |\n",
      "|17      |delivery_comp_1 |2       |533.6   |2-3-2022    |Houston,TX 90001               |\n",
      "|18      |delivery_comp_2 |0       |424.70  |null        |New York,TX 33101              |\n",
      "|19      |delivery_comp_3 |1       |889.97  |4-3-2022    |Elm Street,Miami TX 90001      |\n",
      "|20      |delivery_comp_0 |2       |222.12  |20/3/2022   |Miami,IL 77001                 |\n",
      "+--------+----------------+--------+--------+------------+-------------------------------+\n",
      "only showing top 20 rows\n",
      "\n"
     ]
    }
   ],
   "source": [
    "from pyspark.sql import SparkSession\n",
    "from pyspark.sql.functions import col, lit, split, concat, when\n",
    "\n",
    "import pandas as pd  # Note: This import is not used in the provided code. Consider removing it.\n",
    "\n",
    "def format_file():\n",
    "    \"\"\"\n",
    "    Read a CSV file, format its content and return a DataFrame with the desired columns.\n",
    "    \"\"\"\n",
    "    # Read the text file\n",
    "    raw_file = spark.read.text(\"clean_me.csv\")\n",
    "    \n",
    "    # Splitting the columns\n",
    "    formatted_df = raw_file.withColumn(\"splitted_column\", split(col(\"value\"), \",\"))\n",
    "    \n",
    "    # Extracting fields from the splitted_column\n",
    "    formatted_df = (formatted_df\n",
    "                    .withColumn(\"order_id\", col(\"splitted_column\")[0])\n",
    "                    .withColumn(\"delivery_company\", col(\"splitted_column\")[1])\n",
    "                    .withColumn(\"quantity\", when(col(\"splitted_column\")[2].cast(\"int\").isNotNull(), col(\"splitted_column\")[2])\n",
    "                                .otherwise(lit(0)))\n",
    "                    .withColumn(\"price\", when(col(\"splitted_column\")[4].cast(\"int\").isNotNull(),\n",
    "                                               concat(col(\"splitted_column\")[3], lit(\".\"), col(\"splitted_column\")[4]))\n",
    "                                .otherwise(col(\"splitted_column\")[3]))\n",
    "                    .withColumn(\"ordered_date\", when(col(\"splitted_column\")[4].cast(\"int\").isNotNull(), col(\"splitted_column\")[5])\n",
    "                                .otherwise(col(\"splitted_column\")[4]))\n",
    "                    .withColumn(\"address\", concat(col(\"splitted_column\")[6], lit(\",\"), col(\"splitted_column\")[7]))\n",
    "                    )\n",
    "    \n",
    "    # Removing the header and selecting desired columns\n",
    "    result_df = (formatted_df.select(\"order_id\", \"delivery_company\", \"quantity\", \"price\", \"ordered_date\", \"address\")\n",
    "                 .filter(col(\"order_id\") != \"order_id\"))\n",
    "    \n",
    "    return result_df\n",
    "\n",
    "# Creating a SparkSession\n",
    "spark = SparkSession.builder.appName(\"Read CSV Example\").getOrCreate()\n",
    "\n",
    "# Calling the function and showing the result\n",
    "format_file().show(truncate=False)\n"
   ]
  },
  {
   "cell_type": "markdown",
   "id": "64d3fb84-4c3f-4a64-99dd-b7f5a90c917f",
   "metadata": {},
   "source": [
    "Write a function to unify column data values, ensure that: \n",
    "* Prices are truly double. \n",
    "* Order dates have the dd-MM-yyyy format. \n",
    "* Addresses have the $street, $city, $state, and $zipCode format. "
   ]
  },
  {
   "cell_type": "code",
   "execution_count": 3,
   "id": "c6b5bacd-1ef9-4a4e-9925-756015983be2",
   "metadata": {},
   "outputs": [
    {
     "name": "stdout",
     "output_type": "stream",
     "text": [
      "Found 1 rows with invalid delivery_company format!\n",
      "Invalid price values found!\n",
      "Invalid date formats found!\n",
      "Found 374334 rows with invalid address format!\n",
      "Validation complete.\n",
      "+--------+----------------+--------+--------+------------+-------------------------------+\n",
      "|order_id|delivery_company|quantity|price   |ordered_date|address                        |\n",
      "+--------+----------------+--------+--------+------------+-------------------------------+\n",
      "|1       | delivery_comp_1| 1      | 245. 52|            | Cedar Lane Houston, CA 90001  |\n",
      "|2       |delivery_comp_2 |2       |114.77  |            |Main Street,New York CA 60601  |\n",
      "|3       |delivery_comp_3 |0       |739.43  |14-3-2022   |Main Street,Chicago TX 10001   |\n",
      "|4       |delivery_comp_0 |1       |878.93  |20/4/2022   |null                           |\n",
      "|5       |delivery_comp_1 |2       |481.44  |            |Maple Drive Chicago,FL 60601   |\n",
      "|6       |delivery_comp_2 |0       |78.13   |            |Main Street,Houston NY 77001   |\n",
      "|7       |delivery_comp_3 |1       |832.17  |20-2-2022   |null                           |\n",
      "|8       |delivery_comp_0 |2       |687.8   |1/4/2022    |Maple Drive,Los Angeles        |\n",
      "|9       |delivery_comp_1 |0       |338.44  |13/4/2022   |Cedar Lane Miami,NY 77001      |\n",
      "|10      |delivery_comp_2 |1       |461.33  |            |Chicago,NY 77001               |\n",
      "|11      |delivery_comp_3 |2       |544.33  |8/4/2022    |Los Angeles,CA 90001           |\n",
      "|12      |delivery_comp_0 |0       |200.20  |            |Cedar Lane,Los Angeles FL 77001|\n",
      "|13      |delivery_comp_1 |1       |939.99  |            |Main Street,Chicago            |\n",
      "|14      |delivery_comp_2 |2       |72.69   |2/3/2022    |Oak Avenue,Los Angeles         |\n",
      "|15      |delivery_comp_3 |0       |635.28  |15-2-2022   |Miami,FL 10001                 |\n",
      "|16      |delivery_comp_0 |1       |592.83  |2/3/2022    |Los Angeles,FL                 |\n",
      "|17      |delivery_comp_1 |2       |533.6   |2-3-2022    |Houston,TX 90001               |\n",
      "|18      |delivery_comp_2 |0       |424.70  |            |New York,TX 33101              |\n",
      "|19      |delivery_comp_3 |1       |889.97  |4-3-2022    |Elm Street,Miami TX 90001      |\n",
      "|20      |delivery_comp_0 |2       |222.12  |20/3/2022   |Miami,IL 77001                 |\n",
      "+--------+----------------+--------+--------+------------+-------------------------------+\n",
      "only showing top 20 rows\n",
      "\n"
     ]
    }
   ],
   "source": [
    "from pyspark.sql import SparkSession\n",
    "from pyspark.sql.functions import col, countDistinct, isnan, when, count, regexp_extract\n",
    "\n",
    "# Initialize Spark session\n",
    "spark = SparkSession.builder.appName(\"data_validation\").getOrCreate()\n",
    "\n",
    "# Load your csv data into a DataFrame named df\n",
    "df = format_file()\n",
    "\n",
    "# 1. Ensure all order_id are unique\n",
    "if df.count() != df.select(\"order_id\").distinct().count():\n",
    "    print(\"Duplicate order_ids found!\")\n",
    "\n",
    "# 2. Check delivery_company format\n",
    "invalid_delivery_comp = df.filter(~col(\"delivery_company\").rlike(\"^delivery_comp_[0-9]+$\")).count()\n",
    "if invalid_delivery_comp > 0:\n",
    "    print(f\"Found {invalid_delivery_comp} rows with invalid delivery_company format!\")\n",
    "\n",
    "# 3. Check quantity is non-negative\n",
    "if df.filter(col(\"quantity\") < 0).count() > 0:\n",
    "    print(\"Negative quantity values found!\")\n",
    "\n",
    "# 4. Check if prices are truly doubles and positive\n",
    "if df.filter(~col(\"price\").cast(\"double\").isNotNull() | (col(\"price\") <= 0)).count() > 0:\n",
    "    print(\"Invalid price values found!\")\n",
    "\n",
    "# 5. Standardize and validate date format\n",
    "df = df.withColumn(\"ordered_date\", \n",
    "                   when(col(\"ordered_date\").rlike(\"^[0-9]{1,2}-[0-9]{1,2}-[0-9]{4}$\"), \n",
    "                        regexp_extract(col(\"ordered_date\"), \"([0-9]{1,2}-[0-9]{1,2}-[0-9]{4})\", 1))\n",
    "                   .otherwise(\n",
    "                        regexp_extract(col(\"ordered_date\"), \"([0-9]{1,2}/[0-9]{1,2}/[0-9]{4})\", 1)))\n",
    "if df.filter((col(\"ordered_date\") == \"\") & (~col(\"ordered_date\").isNull())).count() > 0:\n",
    "    print(\"Invalid date formats found!\")\n",
    "\n",
    "# 6. Validate address format\n",
    "address_pattern = \"^(.*),(.+),([A-Z]{2})\\s([0-9]{5})$\"\n",
    "invalid_address = df.filter(~col(\"address\").rlike(address_pattern)).count()\n",
    "if invalid_address > 0:\n",
    "    print(f\"Found {invalid_address} rows with invalid address format!\")\n",
    "\n",
    "print(\"Validation complete.\")\n",
    "\n",
    "df.show(truncate=False)"
   ]
  },
  {
   "cell_type": "code",
   "execution_count": null,
   "id": "1ac26bd2-d5a2-4fc9-aa3f-b6906154b955",
   "metadata": {},
   "outputs": [],
   "source": [
    "df"
   ]
  }
 ],
 "metadata": {
  "kernelspec": {
   "display_name": "Python 3 (ipykernel)",
   "language": "python",
   "name": "python3"
  },
  "language_info": {
   "codemirror_mode": {
    "name": "ipython",
    "version": 3
   },
   "file_extension": ".py",
   "mimetype": "text/x-python",
   "name": "python",
   "nbconvert_exporter": "python",
   "pygments_lexer": "ipython3",
   "version": "3.11.5"
  }
 },
 "nbformat": 4,
 "nbformat_minor": 5
}
