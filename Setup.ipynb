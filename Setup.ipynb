{
 "cells": [
  {
   "cell_type": "code",
   "execution_count": 1,
   "id": "8d4332a8-d776-4f6b-aea0-85b53830e0bb",
   "metadata": {},
   "outputs": [
    {
     "data": {
      "text/plain": [
       "[400, 329, 43, 34, 557]"
      ]
     },
     "execution_count": 1,
     "metadata": {},
     "output_type": "execute_result"
    }
   ],
   "source": [
    "import pyspark  \n",
    "sc = pyspark.SparkContext('local[*]') \n",
    "# do something to prove it works \n",
    "rdd = sc.parallelize(range(1000)) \n",
    "rdd.takeSample(False, 5) "
   ]
  },
  {
   "cell_type": "code",
   "execution_count": null,
   "id": "193bf084-6375-4e42-8be9-a766ff0bc8ff",
   "metadata": {},
   "outputs": [],
   "source": [
    "# accounts\n",
    "df_accounts = spark.read \\\n",
    "    .option(\"header\", \"true\")  \\\n",
    "    .option(\"inferSchema\", \"true\")  \\\n",
    "    .csv(\"accounts.csv\", sep=\";\")\n",
    "\n",
    "df_accounts.count()"
   ]
  }
 ],
 "metadata": {
  "kernelspec": {
   "display_name": "Python 3 (ipykernel)",
   "language": "python",
   "name": "python3"
  },
  "language_info": {
   "codemirror_mode": {
    "name": "ipython",
    "version": 3
   },
   "file_extension": ".py",
   "mimetype": "text/x-python",
   "name": "python",
   "nbconvert_exporter": "python",
   "pygments_lexer": "ipython3",
   "version": "3.11.5"
  }
 },
 "nbformat": 4,
 "nbformat_minor": 5
}
